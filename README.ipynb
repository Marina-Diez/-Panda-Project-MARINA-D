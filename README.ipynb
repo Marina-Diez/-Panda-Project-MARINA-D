{
 "cells": [
  {
   "cell_type": "markdown",
   "metadata": {},
   "source": [
    "# PANDAS PROJECT - SHARK ATTACK"
   ]
  },
  {
   "cell_type": "markdown",
   "metadata": {},
   "source": [
    "![tiburon](images/tiburon.jpg)"
   ]
  },
  {
   "cell_type": "markdown",
   "metadata": {},
   "source": [
    "### Data cleaning & vusualization"
   ]
  },
  {
   "cell_type": "markdown",
   "metadata": {},
   "source": [
    "The aim of this project is to understand the dataset that have being given tu us [\"Global Shark attacks\"](https://www.kaggle.com/teajay/global-shark-attacks) in order to be able to suggest a good hipotesis that I will study and make it visual. To achive all this I will follow nexts steps:\n",
    ">1. **Expore the data**. What tipe of datas and variavles do I have?\n",
    ">2. **Present an hypothesis**  What do we whant to support whith our info ?\n",
    ">3. **Clean the data**. which are the usefull datas to find and support my hypothesis?\n",
    ">4. **Analyze the data**. In order to practice what we have learns in class, whith a focuss on pandas.\n",
    ">5. **Make it visual**. For me and for others to de understable\n"
   ]
  },
  {
   "cell_type": "markdown",
   "metadata": {},
   "source": [
    "### Exproring data\n",
    "The initial analysis starts from a very dirty Dataframe, with a shape (25723, 24), in which each of its columns contains at least 66% null data.\n",
    ">- The variable countries seems interesting, it is not one of the most null and can provide interesting information, it will be the starting point. \n",
    ">- In addition, another interesting information is that all the variables are categorical, so we will have to base ourselves on the relationship between them without being able to delve into their correlations."
   ]
  },
  {
   "cell_type": "code",
   "execution_count": null,
   "metadata": {},
   "outputs": [],
   "source": []
  },
  {
   "cell_type": "markdown",
   "metadata": {},
   "source": [
    "### Hypothesis\n",
    "Shark attacks by continents. \n",
    "Are there specific species depending on the continent?"
   ]
  },
  {
   "cell_type": "markdown",
   "metadata": {},
   "source": [
    "**If you want further information of muy project, please visit it!**"
   ]
  },
  {
   "cell_type": "markdown",
   "metadata": {},
   "source": [
    "### Aditional information\n",
    "\n",
    "I have use the following libraries:\n",
    ">- import numpy as np\n",
    ">- import pandas as pd\n",
    ">- import re\n",
    ">- import seaborn as sns"
   ]
  }
 ],
 "metadata": {
  "kernelspec": {
   "display_name": "Python 3",
   "language": "python",
   "name": "python3"
  },
  "language_info": {
   "codemirror_mode": {
    "name": "ipython",
    "version": 3
   },
   "file_extension": ".py",
   "mimetype": "text/x-python",
   "name": "python",
   "nbconvert_exporter": "python",
   "pygments_lexer": "ipython3",
   "version": "3.8.5"
  }
 },
 "nbformat": 4,
 "nbformat_minor": 4
}
